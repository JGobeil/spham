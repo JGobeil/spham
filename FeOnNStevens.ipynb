{
 "cells": [
  {
   "cell_type": "code",
   "execution_count": null,
   "metadata": {},
   "outputs": [],
   "source": [
    "%run header.ipynb\n",
    "%matplotlib inline"
   ]
  },
  {
   "cell_type": "code",
   "execution_count": null,
   "metadata": {},
   "outputs": [],
   "source": [
    "atoms, Ji = FeOnNStevens(\n",
    "    B20 = -67.72 * meV,\n",
    "    B40 = -12.90 * meV,\n",
    "    B44 =   0.16 * meV,\n",
    "    λso =  -9.41 * meV,\n",
    ")\n",
    "\n",
    "wd = \"../data\"\n",
    "name = \"FeOnNStevens\"\n",
    "\n",
    "Bx = 0.0 * Tesla\n",
    "By = 0.0 * Tesla\n",
    "Bz = 2.1 * Tesla\n",
    "\n",
    "\n",
    "FeOnN = Eigens(wd,\n",
    "            name = name,\n",
    "            atoms = atoms,\n",
    "            Ji = Ji,\n",
    "            Bx = Bx,\n",
    "            By = By,\n",
    "            Bz = Bz,\n",
    "            maxstates = 1000,\n",
    "            inmemory = True,\n",
    "           )"
   ]
  },
  {
   "cell_type": "code",
   "execution_count": null,
   "metadata": {},
   "outputs": [],
   "source": [
    "for i, eV in enumerate((FeOnN.En - FeOnN.En[0])/meV):\n",
    "    if i == 0: continue\n",
    "    print(\"{:>2d}: {:>10.3f} meV\".format(i, eV))"
   ]
  },
  {
   "cell_type": "code",
   "execution_count": null,
   "metadata": {},
   "outputs": [],
   "source": [
    "plt.imshow(np.abs(FeOnN.states))"
   ]
  },
  {
   "cell_type": "code",
   "execution_count": null,
   "metadata": {},
   "outputs": [],
   "source": [
    "#electron = SpinAtom(S=1/2, g=2.0, D=0, E=0)\n",
    "#\n",
    "#FeOnN = Eigens(wd,\n",
    "#            name = name,\n",
    "#            atoms = atoms + [electron, ],\n",
    "#            Ji = Ji,\n",
    "#            Bx = Bx,\n",
    "#            By = By,\n",
    "#            Bz = Bz,\n",
    "#            maxstates = 100,\n",
    "#            inmemory = True,\n",
    "#           )"
   ]
  },
  {
   "cell_type": "code",
   "execution_count": null,
   "metadata": {},
   "outputs": [],
   "source": [
    "ysyt = YsYt(\n",
    "    FeOnN, \n",
    "    0, \n",
    "    u = 0.9,\n",
    "    use_sparse=False, \n",
    "    with_progress=False\n",
    ")\n",
    "sss = SteadyStates(\n",
    "    ysyt,\n",
    "    u = 0.0,\n",
    "    η = 0.4, \n",
    "    G0 = 0.03 * μS, \n",
    "    b0 = 0.6, \n",
    "    Gs = 1.4 * μS, \n",
    "    bias = np.linspace(-30, 30, 251) * mV,  \n",
    "    temp = 1.2 * Kelvin,\n",
    "    algo = \"null_space\",\n",
    ") "
   ]
  },
  {
   "cell_type": "code",
   "execution_count": null,
   "metadata": {},
   "outputs": [],
   "source": [
    "fig, ax = plt.subplots(ncols=2, figsize=(12, 4))\n",
    "\n",
    "for E in (FeOnN.En - FeOnN.En[0])/meV:\n",
    "    if E > 30:\n",
    "        continue\n",
    "    for i in [0, 1]:\n",
    "        ax[i].axvline(E, alpha=0.2)\n",
    "        if E > 0:\n",
    "            ax[i].axvline(-E, alpha=0.2)\n",
    "        \n",
    "sss.dIdVdf().plot(y=[\"Current (nA)\", \"dIdV (nS)\"], secondary_y=\"dIdV (nS)\", ax=ax[0])\n",
    "states = sss.statesdf()\n",
    "states.plot(ax=ax[1])\n",
    "ax[1].legend().remove()\n",
    "\n",
    "fig.suptitle(\"Fe on N site using Stevens Op.\")"
   ]
  },
  {
   "cell_type": "code",
   "execution_count": null,
   "metadata": {},
   "outputs": [],
   "source": []
  }
 ],
 "metadata": {
  "kernelspec": {
   "display_name": "Python 3",
   "language": "python",
   "name": "python3"
  },
  "language_info": {
   "codemirror_mode": {
    "name": "ipython",
    "version": 3
   },
   "file_extension": ".py",
   "mimetype": "text/x-python",
   "name": "python",
   "nbconvert_exporter": "python",
   "pygments_lexer": "ipython3",
   "version": "3.7.9"
  }
 },
 "nbformat": 4,
 "nbformat_minor": 4
}
